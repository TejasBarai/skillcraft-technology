{
 "cells": [
  {
   "cell_type": "code",
   "execution_count": 2,
   "id": "c53cb25f",
   "metadata": {
    "_cell_guid": "b1076dfc-b9ad-4769-8c92-a6c4dae69d19",
    "_uuid": "8f2839f25d086af736a60e9eeb907d3b93b6e0e5",
    "execution": {
     "iopub.execute_input": "2024-08-20T15:54:42.674999Z",
     "iopub.status.busy": "2024-08-20T15:54:42.674582Z",
     "iopub.status.idle": "2024-08-20T15:54:45.668357Z",
     "shell.execute_reply": "2024-08-20T15:54:45.667104Z"
    },
    "papermill": {
     "duration": 3.011351,
     "end_time": "2024-08-20T15:54:45.671258",
     "exception": false,
     "start_time": "2024-08-20T15:54:42.659907",
     "status": "completed"
    },
    "tags": []
   },
   "outputs": [],
   "source": [
    "import numpy as np\n",
    "import pandas as pd\n",
    "import matplotlib.pyplot as plt\n",
    "import seaborn as sns\n",
    "from sklearn.cluster import KMeans\n",
    "\n",
    "import os\n"
   ]
  },
  {
   "cell_type": "code",
   "execution_count": 3,
   "id": "59d72523",
   "metadata": {
    "execution": {
     "iopub.execute_input": "2024-08-20T15:54:45.699579Z",
     "iopub.status.busy": "2024-08-20T15:54:45.698976Z",
     "iopub.status.idle": "2024-08-20T15:54:45.718344Z",
     "shell.execute_reply": "2024-08-20T15:54:45.717324Z"
    },
    "papermill": {
     "duration": 0.036704,
     "end_time": "2024-08-20T15:54:45.721122",
     "exception": false,
     "start_time": "2024-08-20T15:54:45.684418",
     "status": "completed"
    },
    "tags": []
   },
   "outputs": [],
   "source": [
    "df=pd.read_csv(\"C:\\\\Users\\\\HP\\\\Desktop\\\\SkillCraft Technology\\\\Mall_Customers.csv\")"
   ]
  },
  {
   "cell_type": "code",
   "execution_count": 4,
   "id": "0d484b95",
   "metadata": {},
   "outputs": [
    {
     "data": {
      "text/html": [
       "<div>\n",
       "<style scoped>\n",
       "    .dataframe tbody tr th:only-of-type {\n",
       "        vertical-align: middle;\n",
       "    }\n",
       "\n",
       "    .dataframe tbody tr th {\n",
       "        vertical-align: top;\n",
       "    }\n",
       "\n",
       "    .dataframe thead th {\n",
       "        text-align: right;\n",
       "    }\n",
       "</style>\n",
       "<table border=\"1\" class=\"dataframe\">\n",
       "  <thead>\n",
       "    <tr style=\"text-align: right;\">\n",
       "      <th></th>\n",
       "      <th>CustomerID</th>\n",
       "      <th>Gender</th>\n",
       "      <th>Age</th>\n",
       "      <th>Annual Income (k$)</th>\n",
       "      <th>Spending Score (1-100)</th>\n",
       "    </tr>\n",
       "  </thead>\n",
       "  <tbody>\n",
       "    <tr>\n",
       "      <th>0</th>\n",
       "      <td>1</td>\n",
       "      <td>Male</td>\n",
       "      <td>19</td>\n",
       "      <td>15</td>\n",
       "      <td>39</td>\n",
       "    </tr>\n",
       "    <tr>\n",
       "      <th>1</th>\n",
       "      <td>2</td>\n",
       "      <td>Male</td>\n",
       "      <td>21</td>\n",
       "      <td>15</td>\n",
       "      <td>81</td>\n",
       "    </tr>\n",
       "    <tr>\n",
       "      <th>2</th>\n",
       "      <td>3</td>\n",
       "      <td>Female</td>\n",
       "      <td>20</td>\n",
       "      <td>16</td>\n",
       "      <td>6</td>\n",
       "    </tr>\n",
       "    <tr>\n",
       "      <th>3</th>\n",
       "      <td>4</td>\n",
       "      <td>Female</td>\n",
       "      <td>23</td>\n",
       "      <td>16</td>\n",
       "      <td>77</td>\n",
       "    </tr>\n",
       "    <tr>\n",
       "      <th>4</th>\n",
       "      <td>5</td>\n",
       "      <td>Female</td>\n",
       "      <td>31</td>\n",
       "      <td>17</td>\n",
       "      <td>40</td>\n",
       "    </tr>\n",
       "  </tbody>\n",
       "</table>\n",
       "</div>"
      ],
      "text/plain": [
       "   CustomerID  Gender  Age  Annual Income (k$)  Spending Score (1-100)\n",
       "0           1    Male   19                  15                      39\n",
       "1           2    Male   21                  15                      81\n",
       "2           3  Female   20                  16                       6\n",
       "3           4  Female   23                  16                      77\n",
       "4           5  Female   31                  17                      40"
      ]
     },
     "execution_count": 4,
     "metadata": {},
     "output_type": "execute_result"
    }
   ],
   "source": [
    "df.head()"
   ]
  },
  {
   "cell_type": "code",
   "execution_count": 5,
   "id": "578f9e4b",
   "metadata": {
    "execution": {
     "iopub.execute_input": "2024-08-20T15:54:45.748360Z",
     "iopub.status.busy": "2024-08-20T15:54:45.747902Z",
     "iopub.status.idle": "2024-08-20T15:54:45.777450Z",
     "shell.execute_reply": "2024-08-20T15:54:45.776154Z"
    },
    "papermill": {
     "duration": 0.046532,
     "end_time": "2024-08-20T15:54:45.780318",
     "exception": false,
     "start_time": "2024-08-20T15:54:45.733786",
     "status": "completed"
    },
    "tags": []
   },
   "outputs": [
    {
     "data": {
      "text/html": [
       "<div>\n",
       "<style scoped>\n",
       "    .dataframe tbody tr th:only-of-type {\n",
       "        vertical-align: middle;\n",
       "    }\n",
       "\n",
       "    .dataframe tbody tr th {\n",
       "        vertical-align: top;\n",
       "    }\n",
       "\n",
       "    .dataframe thead th {\n",
       "        text-align: right;\n",
       "    }\n",
       "</style>\n",
       "<table border=\"1\" class=\"dataframe\">\n",
       "  <thead>\n",
       "    <tr style=\"text-align: right;\">\n",
       "      <th></th>\n",
       "      <th>CustomerID</th>\n",
       "      <th>Gender</th>\n",
       "      <th>Age</th>\n",
       "      <th>Annual Income (k$)</th>\n",
       "      <th>Spending Score (1-100)</th>\n",
       "    </tr>\n",
       "  </thead>\n",
       "  <tbody>\n",
       "    <tr>\n",
       "      <th>0</th>\n",
       "      <td>1</td>\n",
       "      <td>Male</td>\n",
       "      <td>19</td>\n",
       "      <td>15</td>\n",
       "      <td>39</td>\n",
       "    </tr>\n",
       "    <tr>\n",
       "      <th>1</th>\n",
       "      <td>2</td>\n",
       "      <td>Male</td>\n",
       "      <td>21</td>\n",
       "      <td>15</td>\n",
       "      <td>81</td>\n",
       "    </tr>\n",
       "    <tr>\n",
       "      <th>2</th>\n",
       "      <td>3</td>\n",
       "      <td>Female</td>\n",
       "      <td>20</td>\n",
       "      <td>16</td>\n",
       "      <td>6</td>\n",
       "    </tr>\n",
       "    <tr>\n",
       "      <th>3</th>\n",
       "      <td>4</td>\n",
       "      <td>Female</td>\n",
       "      <td>23</td>\n",
       "      <td>16</td>\n",
       "      <td>77</td>\n",
       "    </tr>\n",
       "    <tr>\n",
       "      <th>4</th>\n",
       "      <td>5</td>\n",
       "      <td>Female</td>\n",
       "      <td>31</td>\n",
       "      <td>17</td>\n",
       "      <td>40</td>\n",
       "    </tr>\n",
       "    <tr>\n",
       "      <th>...</th>\n",
       "      <td>...</td>\n",
       "      <td>...</td>\n",
       "      <td>...</td>\n",
       "      <td>...</td>\n",
       "      <td>...</td>\n",
       "    </tr>\n",
       "    <tr>\n",
       "      <th>195</th>\n",
       "      <td>196</td>\n",
       "      <td>Female</td>\n",
       "      <td>35</td>\n",
       "      <td>120</td>\n",
       "      <td>79</td>\n",
       "    </tr>\n",
       "    <tr>\n",
       "      <th>196</th>\n",
       "      <td>197</td>\n",
       "      <td>Female</td>\n",
       "      <td>45</td>\n",
       "      <td>126</td>\n",
       "      <td>28</td>\n",
       "    </tr>\n",
       "    <tr>\n",
       "      <th>197</th>\n",
       "      <td>198</td>\n",
       "      <td>Male</td>\n",
       "      <td>32</td>\n",
       "      <td>126</td>\n",
       "      <td>74</td>\n",
       "    </tr>\n",
       "    <tr>\n",
       "      <th>198</th>\n",
       "      <td>199</td>\n",
       "      <td>Male</td>\n",
       "      <td>32</td>\n",
       "      <td>137</td>\n",
       "      <td>18</td>\n",
       "    </tr>\n",
       "    <tr>\n",
       "      <th>199</th>\n",
       "      <td>200</td>\n",
       "      <td>Male</td>\n",
       "      <td>30</td>\n",
       "      <td>137</td>\n",
       "      <td>83</td>\n",
       "    </tr>\n",
       "  </tbody>\n",
       "</table>\n",
       "<p>200 rows × 5 columns</p>\n",
       "</div>"
      ],
      "text/plain": [
       "     CustomerID  Gender  Age  Annual Income (k$)  Spending Score (1-100)\n",
       "0             1    Male   19                  15                      39\n",
       "1             2    Male   21                  15                      81\n",
       "2             3  Female   20                  16                       6\n",
       "3             4  Female   23                  16                      77\n",
       "4             5  Female   31                  17                      40\n",
       "..          ...     ...  ...                 ...                     ...\n",
       "195         196  Female   35                 120                      79\n",
       "196         197  Female   45                 126                      28\n",
       "197         198    Male   32                 126                      74\n",
       "198         199    Male   32                 137                      18\n",
       "199         200    Male   30                 137                      83\n",
       "\n",
       "[200 rows x 5 columns]"
      ]
     },
     "execution_count": 5,
     "metadata": {},
     "output_type": "execute_result"
    }
   ],
   "source": [
    "df"
   ]
  },
  {
   "cell_type": "code",
   "execution_count": 6,
   "id": "f6ddd0ce",
   "metadata": {
    "execution": {
     "iopub.execute_input": "2024-08-20T15:54:45.808278Z",
     "iopub.status.busy": "2024-08-20T15:54:45.807836Z",
     "iopub.status.idle": "2024-08-20T15:54:45.819200Z",
     "shell.execute_reply": "2024-08-20T15:54:45.817960Z"
    },
    "papermill": {
     "duration": 0.028555,
     "end_time": "2024-08-20T15:54:45.821923",
     "exception": false,
     "start_time": "2024-08-20T15:54:45.793368",
     "status": "completed"
    },
    "tags": []
   },
   "outputs": [
    {
     "data": {
      "text/plain": [
       "CustomerID                0\n",
       "Gender                    0\n",
       "Age                       0\n",
       "Annual Income (k$)        0\n",
       "Spending Score (1-100)    0\n",
       "dtype: int64"
      ]
     },
     "execution_count": 6,
     "metadata": {},
     "output_type": "execute_result"
    }
   ],
   "source": [
    "df.isnull().sum()"
   ]
  },
  {
   "cell_type": "code",
   "execution_count": 7,
   "id": "a091dcba",
   "metadata": {
    "execution": {
     "iopub.execute_input": "2024-08-20T15:54:45.851454Z",
     "iopub.status.busy": "2024-08-20T15:54:45.851025Z",
     "iopub.status.idle": "2024-08-20T15:54:45.858267Z",
     "shell.execute_reply": "2024-08-20T15:54:45.857108Z"
    },
    "papermill": {
     "duration": 0.024503,
     "end_time": "2024-08-20T15:54:45.860624",
     "exception": false,
     "start_time": "2024-08-20T15:54:45.836121",
     "status": "completed"
    },
    "tags": []
   },
   "outputs": [
    {
     "data": {
      "text/plain": [
       "(200, 5)"
      ]
     },
     "execution_count": 7,
     "metadata": {},
     "output_type": "execute_result"
    }
   ],
   "source": [
    "df.shape"
   ]
  },
  {
   "cell_type": "code",
   "execution_count": 8,
   "id": "cd0beaf8",
   "metadata": {
    "execution": {
     "iopub.execute_input": "2024-08-20T15:54:45.889348Z",
     "iopub.status.busy": "2024-08-20T15:54:45.888890Z",
     "iopub.status.idle": "2024-08-20T15:54:45.897406Z",
     "shell.execute_reply": "2024-08-20T15:54:45.896095Z"
    },
    "papermill": {
     "duration": 0.026081,
     "end_time": "2024-08-20T15:54:45.900010",
     "exception": false,
     "start_time": "2024-08-20T15:54:45.873929",
     "status": "completed"
    },
    "tags": []
   },
   "outputs": [],
   "source": [
    "income_unique=df[\"Annual Income (k$)\"].unique()"
   ]
  },
  {
   "cell_type": "code",
   "execution_count": 9,
   "id": "0bf2e90d",
   "metadata": {
    "execution": {
     "iopub.execute_input": "2024-08-20T15:54:45.928344Z",
     "iopub.status.busy": "2024-08-20T15:54:45.927919Z",
     "iopub.status.idle": "2024-08-20T15:54:45.935658Z",
     "shell.execute_reply": "2024-08-20T15:54:45.934399Z"
    },
    "papermill": {
     "duration": 0.024875,
     "end_time": "2024-08-20T15:54:45.938047",
     "exception": false,
     "start_time": "2024-08-20T15:54:45.913172",
     "status": "completed"
    },
    "tags": []
   },
   "outputs": [
    {
     "data": {
      "text/plain": [
       "array([ 15,  16,  17,  18,  19,  20,  21,  23,  24,  25,  28,  29,  30,\n",
       "        33,  34,  37,  38,  39,  40,  42,  43,  44,  46,  47,  48,  49,\n",
       "        50,  54,  57,  58,  59,  60,  61,  62,  63,  64,  65,  67,  69,\n",
       "        70,  71,  72,  73,  74,  75,  76,  77,  78,  79,  81,  85,  86,\n",
       "        87,  88,  93,  97,  98,  99, 101, 103, 113, 120, 126, 137],\n",
       "      dtype=int64)"
      ]
     },
     "execution_count": 9,
     "metadata": {},
     "output_type": "execute_result"
    }
   ],
   "source": [
    "income_unique"
   ]
  },
  {
   "cell_type": "code",
   "execution_count": 10,
   "id": "036ff0c9",
   "metadata": {
    "execution": {
     "iopub.execute_input": "2024-08-20T15:54:45.966988Z",
     "iopub.status.busy": "2024-08-20T15:54:45.966273Z",
     "iopub.status.idle": "2024-08-20T15:54:47.250979Z",
     "shell.execute_reply": "2024-08-20T15:54:47.249704Z"
    },
    "papermill": {
     "duration": 1.302501,
     "end_time": "2024-08-20T15:54:47.253965",
     "exception": false,
     "start_time": "2024-08-20T15:54:45.951464",
     "status": "completed"
    },
    "tags": []
   },
   "outputs": [
    {
     "data": {
      "image/png": "[encoded data removed]",
      "text/plain": [
       "<Figure size 1200x800 with 1 Axes>"
      ]
     },
     "metadata": {},
     "output_type": "display_data"
    }
   ],
   "source": [
    "plt.figure(figsize=(12, 8))\n",
    "for income in income_unique:\n",
    "    # Filter data for the current income value\n",
    "    filtered_data = df[df['Annual Income (k$)'] == income]\n",
    "    # Plot Spending Score vs. Annual Income\n",
    "    plt.scatter([income] * len(filtered_data), filtered_data['Spending Score (1-100)'], label=f'Income: {income}k$', alpha=0.7)\n"
   ]
  },
  {
   "cell_type": "code",
   "execution_count": 11,
   "id": "9136c7ed",
   "metadata": {
    "execution": {
     "iopub.execute_input": "2024-08-20T15:54:47.285682Z",
     "iopub.status.busy": "2024-08-20T15:54:47.285246Z",
     "iopub.status.idle": "2024-08-20T15:54:47.293303Z",
     "shell.execute_reply": "2024-08-20T15:54:47.292045Z"
    },
    "papermill": {
     "duration": 0.026905,
     "end_time": "2024-08-20T15:54:47.295573",
     "exception": false,
     "start_time": "2024-08-20T15:54:47.268668",
     "status": "completed"
    },
    "tags": []
   },
   "outputs": [
    {
     "data": {
      "text/plain": [
       "137"
      ]
     },
     "execution_count": 11,
     "metadata": {},
     "output_type": "execute_result"
    }
   ],
   "source": [
    "df['Annual Income (k$)'].max()"
   ]
  },
  {
   "cell_type": "code",
   "execution_count": 12,
   "id": "9064da63",
   "metadata": {
    "execution": {
     "iopub.execute_input": "2024-08-20T15:54:47.327333Z",
     "iopub.status.busy": "2024-08-20T15:54:47.326334Z",
     "iopub.status.idle": "2024-08-20T15:54:47.333801Z",
     "shell.execute_reply": "2024-08-20T15:54:47.332761Z"
    },
    "papermill": {
     "duration": 0.026269,
     "end_time": "2024-08-20T15:54:47.336545",
     "exception": false,
     "start_time": "2024-08-20T15:54:47.310276",
     "status": "completed"
    },
    "tags": []
   },
   "outputs": [
    {
     "data": {
      "text/plain": [
       "15"
      ]
     },
     "execution_count": 12,
     "metadata": {},
     "output_type": "execute_result"
    }
   ],
   "source": [
    "df['Annual Income (k$)'].min()"
   ]
  },
  {
   "cell_type": "code",
   "execution_count": 13,
   "id": "3aa9fc45",
   "metadata": {
    "execution": {
     "iopub.execute_input": "2024-08-20T15:54:47.368138Z",
     "iopub.status.busy": "2024-08-20T15:54:47.367758Z",
     "iopub.status.idle": "2024-08-20T15:54:47.375568Z",
     "shell.execute_reply": "2024-08-20T15:54:47.374401Z"
    },
    "papermill": {
     "duration": 0.026442,
     "end_time": "2024-08-20T15:54:47.377959",
     "exception": false,
     "start_time": "2024-08-20T15:54:47.351517",
     "status": "completed"
    },
    "tags": []
   },
   "outputs": [
    {
     "data": {
      "text/plain": [
       "60.56"
      ]
     },
     "execution_count": 13,
     "metadata": {},
     "output_type": "execute_result"
    }
   ],
   "source": [
    "df['Annual Income (k$)'].mean()"
   ]
  },
  {
   "cell_type": "code",
   "execution_count": 14,
   "id": "6c1bbe32",
   "metadata": {
    "execution": {
     "iopub.execute_input": "2024-08-20T15:54:47.410410Z",
     "iopub.status.busy": "2024-08-20T15:54:47.409293Z",
     "iopub.status.idle": "2024-08-20T15:54:47.416881Z",
     "shell.execute_reply": "2024-08-20T15:54:47.415789Z"
    },
    "papermill": {
     "duration": 0.0265,
     "end_time": "2024-08-20T15:54:47.419434",
     "exception": false,
     "start_time": "2024-08-20T15:54:47.392934",
     "status": "completed"
    },
    "tags": []
   },
   "outputs": [
    {
     "data": {
      "text/plain": [
       "38.85"
      ]
     },
     "execution_count": 14,
     "metadata": {},
     "output_type": "execute_result"
    }
   ],
   "source": [
    "df['Age'].mean()"
   ]
  },
  {
   "cell_type": "code",
   "execution_count": 15,
   "id": "df827f9c",
   "metadata": {
    "execution": {
     "iopub.execute_input": "2024-08-20T15:54:47.452034Z",
     "iopub.status.busy": "2024-08-20T15:54:47.451027Z",
     "iopub.status.idle": "2024-08-20T15:54:47.459085Z",
     "shell.execute_reply": "2024-08-20T15:54:47.457965Z"
    },
    "papermill": {
     "duration": 0.027369,
     "end_time": "2024-08-20T15:54:47.461758",
     "exception": false,
     "start_time": "2024-08-20T15:54:47.434389",
     "status": "completed"
    },
    "tags": []
   },
   "outputs": [
    {
     "data": {
      "text/plain": [
       "99"
      ]
     },
     "execution_count": 15,
     "metadata": {},
     "output_type": "execute_result"
    }
   ],
   "source": [
    "df[\"Spending Score (1-100)\"].max()"
   ]
  },
  {
   "cell_type": "code",
   "execution_count": 16,
   "id": "a029470e",
   "metadata": {
    "execution": {
     "iopub.execute_input": "2024-08-20T15:54:47.495761Z",
     "iopub.status.busy": "2024-08-20T15:54:47.494629Z",
     "iopub.status.idle": "2024-08-20T15:54:47.502369Z",
     "shell.execute_reply": "2024-08-20T15:54:47.501268Z"
    },
    "papermill": {
     "duration": 0.027264,
     "end_time": "2024-08-20T15:54:47.505051",
     "exception": false,
     "start_time": "2024-08-20T15:54:47.477787",
     "status": "completed"
    },
    "tags": []
   },
   "outputs": [
    {
     "data": {
      "text/plain": [
       "1"
      ]
     },
     "execution_count": 16,
     "metadata": {},
     "output_type": "execute_result"
    }
   ],
   "source": [
    "df[\"Spending Score (1-100)\"].min()"
   ]
  },
  {
   "cell_type": "code",
   "execution_count": 17,
   "id": "01d78fb6",
   "metadata": {
    "execution": {
     "iopub.execute_input": "2024-08-20T15:54:47.538456Z",
     "iopub.status.busy": "2024-08-20T15:54:47.537920Z",
     "iopub.status.idle": "2024-08-20T15:54:47.545216Z",
     "shell.execute_reply": "2024-08-20T15:54:47.544117Z"
    },
    "papermill": {
     "duration": 0.026807,
     "end_time": "2024-08-20T15:54:47.547560",
     "exception": false,
     "start_time": "2024-08-20T15:54:47.520753",
     "status": "completed"
    },
    "tags": []
   },
   "outputs": [
    {
     "data": {
      "text/plain": [
       "50.2"
      ]
     },
     "execution_count": 17,
     "metadata": {},
     "output_type": "execute_result"
    }
   ],
   "source": [
    "df[\"Spending Score (1-100)\"].mean()"
   ]
  },
  {
   "cell_type": "code",
   "execution_count": 18,
   "id": "c45b2395",
   "metadata": {
    "execution": {
     "iopub.execute_input": "2024-08-20T15:54:47.580701Z",
     "iopub.status.busy": "2024-08-20T15:54:47.580278Z",
     "iopub.status.idle": "2024-08-20T15:54:47.588762Z",
     "shell.execute_reply": "2024-08-20T15:54:47.587438Z"
    },
    "papermill": {
     "duration": 0.028204,
     "end_time": "2024-08-20T15:54:47.591459",
     "exception": false,
     "start_time": "2024-08-20T15:54:47.563255",
     "status": "completed"
    },
    "tags": []
   },
   "outputs": [],
   "source": [
    "spend_more_than_average=df[df[\"Spending Score (1-100)\"]>55].sort_values(by=\"Spending Score (1-100)\")"
   ]
  },
  {
   "cell_type": "code",
   "execution_count": 19,
   "id": "af48e2da",
   "metadata": {
    "execution": {
     "iopub.execute_input": "2024-08-20T15:54:47.624455Z",
     "iopub.status.busy": "2024-08-20T15:54:47.623916Z",
     "iopub.status.idle": "2024-08-20T15:54:47.638256Z",
     "shell.execute_reply": "2024-08-20T15:54:47.637071Z"
    },
    "papermill": {
     "duration": 0.033508,
     "end_time": "2024-08-20T15:54:47.640578",
     "exception": false,
     "start_time": "2024-08-20T15:54:47.607070",
     "status": "completed"
    },
    "tags": []
   },
   "outputs": [
    {
     "data": {
      "text/html": [
       "<div>\n",
       "<style scoped>\n",
       "    .dataframe tbody tr th:only-of-type {\n",
       "        vertical-align: middle;\n",
       "    }\n",
       "\n",
       "    .dataframe tbody tr th {\n",
       "        vertical-align: top;\n",
       "    }\n",
       "\n",
       "    .dataframe thead th {\n",
       "        text-align: right;\n",
       "    }\n",
       "</style>\n",
       "<table border=\"1\" class=\"dataframe\">\n",
       "  <thead>\n",
       "    <tr style=\"text-align: right;\">\n",
       "      <th></th>\n",
       "      <th>CustomerID</th>\n",
       "      <th>Gender</th>\n",
       "      <th>Age</th>\n",
       "      <th>Annual Income (k$)</th>\n",
       "      <th>Spending Score (1-100)</th>\n",
       "    </tr>\n",
       "  </thead>\n",
       "  <tbody>\n",
       "    <tr>\n",
       "      <th>120</th>\n",
       "      <td>121</td>\n",
       "      <td>Male</td>\n",
       "      <td>27</td>\n",
       "      <td>67</td>\n",
       "      <td>56</td>\n",
       "    </tr>\n",
       "    <tr>\n",
       "      <th>104</th>\n",
       "      <td>105</td>\n",
       "      <td>Male</td>\n",
       "      <td>49</td>\n",
       "      <td>62</td>\n",
       "      <td>56</td>\n",
       "    </tr>\n",
       "    <tr>\n",
       "      <th>73</th>\n",
       "      <td>74</td>\n",
       "      <td>Female</td>\n",
       "      <td>60</td>\n",
       "      <td>50</td>\n",
       "      <td>56</td>\n",
       "    </tr>\n",
       "    <tr>\n",
       "      <th>60</th>\n",
       "      <td>61</td>\n",
       "      <td>Male</td>\n",
       "      <td>70</td>\n",
       "      <td>46</td>\n",
       "      <td>56</td>\n",
       "    </tr>\n",
       "    <tr>\n",
       "      <th>119</th>\n",
       "      <td>120</td>\n",
       "      <td>Female</td>\n",
       "      <td>50</td>\n",
       "      <td>67</td>\n",
       "      <td>57</td>\n",
       "    </tr>\n",
       "    <tr>\n",
       "      <th>...</th>\n",
       "      <td>...</td>\n",
       "      <td>...</td>\n",
       "      <td>...</td>\n",
       "      <td>...</td>\n",
       "      <td>...</td>\n",
       "    </tr>\n",
       "    <tr>\n",
       "      <th>127</th>\n",
       "      <td>128</td>\n",
       "      <td>Male</td>\n",
       "      <td>40</td>\n",
       "      <td>71</td>\n",
       "      <td>95</td>\n",
       "    </tr>\n",
       "    <tr>\n",
       "      <th>185</th>\n",
       "      <td>186</td>\n",
       "      <td>Male</td>\n",
       "      <td>30</td>\n",
       "      <td>99</td>\n",
       "      <td>97</td>\n",
       "    </tr>\n",
       "    <tr>\n",
       "      <th>145</th>\n",
       "      <td>146</td>\n",
       "      <td>Male</td>\n",
       "      <td>28</td>\n",
       "      <td>77</td>\n",
       "      <td>97</td>\n",
       "    </tr>\n",
       "    <tr>\n",
       "      <th>19</th>\n",
       "      <td>20</td>\n",
       "      <td>Female</td>\n",
       "      <td>35</td>\n",
       "      <td>23</td>\n",
       "      <td>98</td>\n",
       "    </tr>\n",
       "    <tr>\n",
       "      <th>11</th>\n",
       "      <td>12</td>\n",
       "      <td>Female</td>\n",
       "      <td>35</td>\n",
       "      <td>19</td>\n",
       "      <td>99</td>\n",
       "    </tr>\n",
       "  </tbody>\n",
       "</table>\n",
       "<p>78 rows × 5 columns</p>\n",
       "</div>"
      ],
      "text/plain": [
       "     CustomerID  Gender  Age  Annual Income (k$)  Spending Score (1-100)\n",
       "120         121    Male   27                  67                      56\n",
       "104         105    Male   49                  62                      56\n",
       "73           74  Female   60                  50                      56\n",
       "60           61    Male   70                  46                      56\n",
       "119         120  Female   50                  67                      57\n",
       "..          ...     ...  ...                 ...                     ...\n",
       "127         128    Male   40                  71                      95\n",
       "185         186    Male   30                  99                      97\n",
       "145         146    Male   28                  77                      97\n",
       "19           20  Female   35                  23                      98\n",
       "11           12  Female   35                  19                      99\n",
       "\n",
       "[78 rows x 5 columns]"
      ]
     },
     "execution_count": 19,
     "metadata": {},
     "output_type": "execute_result"
    }
   ],
   "source": [
    "spend_more_than_average"
   ]
  },
  {
   "cell_type": "code",
   "execution_count": 20,
   "id": "0b9c2609",
   "metadata": {
    "execution": {
     "iopub.execute_input": "2024-08-20T15:54:47.677644Z",
     "iopub.status.busy": "2024-08-20T15:54:47.677144Z",
     "iopub.status.idle": "2024-08-20T15:54:47.684552Z",
     "shell.execute_reply": "2024-08-20T15:54:47.683255Z"
    },
    "papermill": {
     "duration": 0.030041,
     "end_time": "2024-08-20T15:54:47.687048",
     "exception": false,
     "start_time": "2024-08-20T15:54:47.657007",
     "status": "completed"
    },
    "tags": []
   },
   "outputs": [
    {
     "data": {
      "text/plain": [
       "(78, 5)"
      ]
     },
     "execution_count": 20,
     "metadata": {},
     "output_type": "execute_result"
    }
   ],
   "source": [
    "spend_more_than_average.shape"
   ]
  },
  {
   "cell_type": "code",
   "execution_count": 21,
   "id": "a00aed67",
   "metadata": {
    "execution": {
     "iopub.execute_input": "2024-08-20T15:54:47.722523Z",
     "iopub.status.busy": "2024-08-20T15:54:47.722085Z",
     "iopub.status.idle": "2024-08-20T15:54:47.741066Z",
     "shell.execute_reply": "2024-08-20T15:54:47.739686Z"
    },
    "papermill": {
     "duration": 0.040744,
     "end_time": "2024-08-20T15:54:47.744047",
     "exception": false,
     "start_time": "2024-08-20T15:54:47.703303",
     "status": "completed"
    },
    "tags": []
   },
   "outputs": [
    {
     "data": {
      "text/html": [
       "<div>\n",
       "<style scoped>\n",
       "    .dataframe tbody tr th:only-of-type {\n",
       "        vertical-align: middle;\n",
       "    }\n",
       "\n",
       "    .dataframe tbody tr th {\n",
       "        vertical-align: top;\n",
       "    }\n",
       "\n",
       "    .dataframe thead th {\n",
       "        text-align: right;\n",
       "    }\n",
       "</style>\n",
       "<table border=\"1\" class=\"dataframe\">\n",
       "  <thead>\n",
       "    <tr style=\"text-align: right;\">\n",
       "      <th></th>\n",
       "      <th>CustomerID</th>\n",
       "      <th>Gender</th>\n",
       "      <th>Age</th>\n",
       "      <th>Annual Income (k$)</th>\n",
       "      <th>Spending Score (1-100)</th>\n",
       "    </tr>\n",
       "  </thead>\n",
       "  <tbody>\n",
       "    <tr>\n",
       "      <th>1</th>\n",
       "      <td>2</td>\n",
       "      <td>Male</td>\n",
       "      <td>21</td>\n",
       "      <td>15</td>\n",
       "      <td>81</td>\n",
       "    </tr>\n",
       "    <tr>\n",
       "      <th>3</th>\n",
       "      <td>4</td>\n",
       "      <td>Female</td>\n",
       "      <td>23</td>\n",
       "      <td>16</td>\n",
       "      <td>77</td>\n",
       "    </tr>\n",
       "    <tr>\n",
       "      <th>5</th>\n",
       "      <td>6</td>\n",
       "      <td>Female</td>\n",
       "      <td>22</td>\n",
       "      <td>17</td>\n",
       "      <td>76</td>\n",
       "    </tr>\n",
       "    <tr>\n",
       "      <th>7</th>\n",
       "      <td>8</td>\n",
       "      <td>Female</td>\n",
       "      <td>23</td>\n",
       "      <td>18</td>\n",
       "      <td>94</td>\n",
       "    </tr>\n",
       "    <tr>\n",
       "      <th>11</th>\n",
       "      <td>12</td>\n",
       "      <td>Female</td>\n",
       "      <td>35</td>\n",
       "      <td>19</td>\n",
       "      <td>99</td>\n",
       "    </tr>\n",
       "    <tr>\n",
       "      <th>9</th>\n",
       "      <td>10</td>\n",
       "      <td>Female</td>\n",
       "      <td>30</td>\n",
       "      <td>19</td>\n",
       "      <td>72</td>\n",
       "    </tr>\n",
       "    <tr>\n",
       "      <th>15</th>\n",
       "      <td>16</td>\n",
       "      <td>Male</td>\n",
       "      <td>22</td>\n",
       "      <td>20</td>\n",
       "      <td>79</td>\n",
       "    </tr>\n",
       "    <tr>\n",
       "      <th>13</th>\n",
       "      <td>14</td>\n",
       "      <td>Female</td>\n",
       "      <td>24</td>\n",
       "      <td>20</td>\n",
       "      <td>77</td>\n",
       "    </tr>\n",
       "    <tr>\n",
       "      <th>17</th>\n",
       "      <td>18</td>\n",
       "      <td>Male</td>\n",
       "      <td>20</td>\n",
       "      <td>21</td>\n",
       "      <td>66</td>\n",
       "    </tr>\n",
       "    <tr>\n",
       "      <th>19</th>\n",
       "      <td>20</td>\n",
       "      <td>Female</td>\n",
       "      <td>35</td>\n",
       "      <td>23</td>\n",
       "      <td>98</td>\n",
       "    </tr>\n",
       "    <tr>\n",
       "      <th>21</th>\n",
       "      <td>22</td>\n",
       "      <td>Male</td>\n",
       "      <td>25</td>\n",
       "      <td>24</td>\n",
       "      <td>73</td>\n",
       "    </tr>\n",
       "    <tr>\n",
       "      <th>23</th>\n",
       "      <td>24</td>\n",
       "      <td>Male</td>\n",
       "      <td>31</td>\n",
       "      <td>25</td>\n",
       "      <td>73</td>\n",
       "    </tr>\n",
       "    <tr>\n",
       "      <th>25</th>\n",
       "      <td>26</td>\n",
       "      <td>Male</td>\n",
       "      <td>29</td>\n",
       "      <td>28</td>\n",
       "      <td>82</td>\n",
       "    </tr>\n",
       "    <tr>\n",
       "      <th>27</th>\n",
       "      <td>28</td>\n",
       "      <td>Male</td>\n",
       "      <td>35</td>\n",
       "      <td>28</td>\n",
       "      <td>61</td>\n",
       "    </tr>\n",
       "    <tr>\n",
       "      <th>29</th>\n",
       "      <td>30</td>\n",
       "      <td>Female</td>\n",
       "      <td>23</td>\n",
       "      <td>29</td>\n",
       "      <td>87</td>\n",
       "    </tr>\n",
       "    <tr>\n",
       "      <th>31</th>\n",
       "      <td>32</td>\n",
       "      <td>Female</td>\n",
       "      <td>21</td>\n",
       "      <td>30</td>\n",
       "      <td>73</td>\n",
       "    </tr>\n",
       "    <tr>\n",
       "      <th>35</th>\n",
       "      <td>36</td>\n",
       "      <td>Female</td>\n",
       "      <td>21</td>\n",
       "      <td>33</td>\n",
       "      <td>81</td>\n",
       "    </tr>\n",
       "    <tr>\n",
       "      <th>33</th>\n",
       "      <td>34</td>\n",
       "      <td>Male</td>\n",
       "      <td>18</td>\n",
       "      <td>33</td>\n",
       "      <td>92</td>\n",
       "    </tr>\n",
       "    <tr>\n",
       "      <th>37</th>\n",
       "      <td>38</td>\n",
       "      <td>Female</td>\n",
       "      <td>30</td>\n",
       "      <td>34</td>\n",
       "      <td>73</td>\n",
       "    </tr>\n",
       "    <tr>\n",
       "      <th>39</th>\n",
       "      <td>40</td>\n",
       "      <td>Female</td>\n",
       "      <td>20</td>\n",
       "      <td>37</td>\n",
       "      <td>75</td>\n",
       "    </tr>\n",
       "    <tr>\n",
       "      <th>41</th>\n",
       "      <td>42</td>\n",
       "      <td>Male</td>\n",
       "      <td>24</td>\n",
       "      <td>38</td>\n",
       "      <td>92</td>\n",
       "    </tr>\n",
       "    <tr>\n",
       "      <th>43</th>\n",
       "      <td>44</td>\n",
       "      <td>Female</td>\n",
       "      <td>31</td>\n",
       "      <td>39</td>\n",
       "      <td>61</td>\n",
       "    </tr>\n",
       "    <tr>\n",
       "      <th>45</th>\n",
       "      <td>46</td>\n",
       "      <td>Female</td>\n",
       "      <td>24</td>\n",
       "      <td>39</td>\n",
       "      <td>65</td>\n",
       "    </tr>\n",
       "    <tr>\n",
       "      <th>51</th>\n",
       "      <td>52</td>\n",
       "      <td>Male</td>\n",
       "      <td>33</td>\n",
       "      <td>42</td>\n",
       "      <td>60</td>\n",
       "    </tr>\n",
       "    <tr>\n",
       "      <th>53</th>\n",
       "      <td>54</td>\n",
       "      <td>Male</td>\n",
       "      <td>59</td>\n",
       "      <td>43</td>\n",
       "      <td>60</td>\n",
       "    </tr>\n",
       "    <tr>\n",
       "      <th>60</th>\n",
       "      <td>61</td>\n",
       "      <td>Male</td>\n",
       "      <td>70</td>\n",
       "      <td>46</td>\n",
       "      <td>56</td>\n",
       "    </tr>\n",
       "    <tr>\n",
       "      <th>63</th>\n",
       "      <td>64</td>\n",
       "      <td>Female</td>\n",
       "      <td>54</td>\n",
       "      <td>47</td>\n",
       "      <td>59</td>\n",
       "    </tr>\n",
       "    <tr>\n",
       "      <th>65</th>\n",
       "      <td>66</td>\n",
       "      <td>Male</td>\n",
       "      <td>18</td>\n",
       "      <td>48</td>\n",
       "      <td>59</td>\n",
       "    </tr>\n",
       "    <tr>\n",
       "      <th>68</th>\n",
       "      <td>69</td>\n",
       "      <td>Male</td>\n",
       "      <td>19</td>\n",
       "      <td>48</td>\n",
       "      <td>59</td>\n",
       "    </tr>\n",
       "    <tr>\n",
       "      <th>73</th>\n",
       "      <td>74</td>\n",
       "      <td>Female</td>\n",
       "      <td>60</td>\n",
       "      <td>50</td>\n",
       "      <td>56</td>\n",
       "    </tr>\n",
       "    <tr>\n",
       "      <th>84</th>\n",
       "      <td>85</td>\n",
       "      <td>Female</td>\n",
       "      <td>21</td>\n",
       "      <td>54</td>\n",
       "      <td>57</td>\n",
       "    </tr>\n",
       "  </tbody>\n",
       "</table>\n",
       "</div>"
      ],
      "text/plain": [
       "    CustomerID  Gender  Age  Annual Income (k$)  Spending Score (1-100)\n",
       "1            2    Male   21                  15                      81\n",
       "3            4  Female   23                  16                      77\n",
       "5            6  Female   22                  17                      76\n",
       "7            8  Female   23                  18                      94\n",
       "11          12  Female   35                  19                      99\n",
       "9           10  Female   30                  19                      72\n",
       "15          16    Male   22                  20                      79\n",
       "13          14  Female   24                  20                      77\n",
       "17          18    Male   20                  21                      66\n",
       "19          20  Female   35                  23                      98\n",
       "21          22    Male   25                  24                      73\n",
       "23          24    Male   31                  25                      73\n",
       "25          26    Male   29                  28                      82\n",
       "27          28    Male   35                  28                      61\n",
       "29          30  Female   23                  29                      87\n",
       "31          32  Female   21                  30                      73\n",
       "35          36  Female   21                  33                      81\n",
       "33          34    Male   18                  33                      92\n",
       "37          38  Female   30                  34                      73\n",
       "39          40  Female   20                  37                      75\n",
       "41          42    Male   24                  38                      92\n",
       "43          44  Female   31                  39                      61\n",
       "45          46  Female   24                  39                      65\n",
       "51          52    Male   33                  42                      60\n",
       "53          54    Male   59                  43                      60\n",
       "60          61    Male   70                  46                      56\n",
       "63          64  Female   54                  47                      59\n",
       "65          66    Male   18                  48                      59\n",
       "68          69    Male   19                  48                      59\n",
       "73          74  Female   60                  50                      56\n",
       "84          85  Female   21                  54                      57"
      ]
     },
     "execution_count": 21,
     "metadata": {},
     "output_type": "execute_result"
    }
   ],
   "source": [
    "#spend more than income\n",
    "spend_more_than_average[spend_more_than_average[\"Annual Income (k$)\"]<=55].sort_values(by=\"Annual Income (k$)\")"
   ]
  },
  {
   "cell_type": "code",
   "execution_count": 22,
   "id": "b628bf04",
   "metadata": {
    "execution": {
     "iopub.execute_input": "2024-08-20T15:54:47.781250Z",
     "iopub.status.busy": "2024-08-20T15:54:47.780164Z",
     "iopub.status.idle": "2024-08-20T15:54:47.786116Z",
     "shell.execute_reply": "2024-08-20T15:54:47.784873Z"
    },
    "papermill": {
     "duration": 0.027083,
     "end_time": "2024-08-20T15:54:47.788519",
     "exception": false,
     "start_time": "2024-08-20T15:54:47.761436",
     "status": "completed"
    },
    "tags": []
   },
   "outputs": [],
   "source": [
    "gender_info=spend_more_than_average.groupby(\"Gender\")"
   ]
  },
  {
   "cell_type": "code",
   "execution_count": 23,
   "id": "cafecf24",
   "metadata": {
    "execution": {
     "iopub.execute_input": "2024-08-20T15:54:47.823806Z",
     "iopub.status.busy": "2024-08-20T15:54:47.823349Z",
     "iopub.status.idle": "2024-08-20T15:54:47.833958Z",
     "shell.execute_reply": "2024-08-20T15:54:47.832792Z"
    },
    "papermill": {
     "duration": 0.031501,
     "end_time": "2024-08-20T15:54:47.836568",
     "exception": false,
     "start_time": "2024-08-20T15:54:47.805067",
     "status": "completed"
    },
    "tags": []
   },
   "outputs": [],
   "source": [
    "female_info=gender_info.get_group(\"Female\").sort_values(by=\"Age\")"
   ]
  },
  {
   "cell_type": "code",
   "execution_count": 24,
   "id": "5457ce60",
   "metadata": {
    "execution": {
     "iopub.execute_input": "2024-08-20T15:54:47.872102Z",
     "iopub.status.busy": "2024-08-20T15:54:47.871724Z",
     "iopub.status.idle": "2024-08-20T15:54:47.878395Z",
     "shell.execute_reply": "2024-08-20T15:54:47.877273Z"
    },
    "papermill": {
     "duration": 0.027428,
     "end_time": "2024-08-20T15:54:47.880759",
     "exception": false,
     "start_time": "2024-08-20T15:54:47.853331",
     "status": "completed"
    },
    "tags": []
   },
   "outputs": [
    {
     "data": {
      "text/plain": [
       "(43, 5)"
      ]
     },
     "execution_count": 24,
     "metadata": {},
     "output_type": "execute_result"
    }
   ],
   "source": [
    "female_info.shape"
   ]
  },
  {
   "cell_type": "code",
   "execution_count": 25,
   "id": "19b46ad2",
   "metadata": {
    "execution": {
     "iopub.execute_input": "2024-08-20T15:54:47.915982Z",
     "iopub.status.busy": "2024-08-20T15:54:47.915590Z",
     "iopub.status.idle": "2024-08-20T15:54:47.923047Z",
     "shell.execute_reply": "2024-08-20T15:54:47.922050Z"
    },
    "papermill": {
     "duration": 0.028306,
     "end_time": "2024-08-20T15:54:47.925717",
     "exception": false,
     "start_time": "2024-08-20T15:54:47.897411",
     "status": "completed"
    },
    "tags": []
   },
   "outputs": [
    {
     "data": {
      "text/plain": [
       "99"
      ]
     },
     "execution_count": 25,
     "metadata": {},
     "output_type": "execute_result"
    }
   ],
   "source": [
    "female_info[\"Spending Score (1-100)\"].max()"
   ]
  },
  {
   "cell_type": "code",
   "execution_count": 26,
   "id": "54ce1f07",
   "metadata": {
    "execution": {
     "iopub.execute_input": "2024-08-20T15:54:47.962119Z",
     "iopub.status.busy": "2024-08-20T15:54:47.961741Z",
     "iopub.status.idle": "2024-08-20T15:54:47.969212Z",
     "shell.execute_reply": "2024-08-20T15:54:47.968165Z"
    },
    "papermill": {
     "duration": 0.028599,
     "end_time": "2024-08-20T15:54:47.971518",
     "exception": false,
     "start_time": "2024-08-20T15:54:47.942919",
     "status": "completed"
    },
    "tags": []
   },
   "outputs": [
    {
     "data": {
      "text/plain": [
       "56"
      ]
     },
     "execution_count": 26,
     "metadata": {},
     "output_type": "execute_result"
    }
   ],
   "source": [
    "female_info[\"Spending Score (1-100)\"].min()"
   ]
  },
  {
   "cell_type": "code",
   "execution_count": 27,
   "id": "96a9f4ef",
   "metadata": {
    "execution": {
     "iopub.execute_input": "2024-08-20T15:54:48.007280Z",
     "iopub.status.busy": "2024-08-20T15:54:48.006826Z",
     "iopub.status.idle": "2024-08-20T15:54:48.014296Z",
     "shell.execute_reply": "2024-08-20T15:54:48.013135Z"
    },
    "papermill": {
     "duration": 0.02831,
     "end_time": "2024-08-20T15:54:48.016914",
     "exception": false,
     "start_time": "2024-08-20T15:54:47.988604",
     "status": "completed"
    },
    "tags": []
   },
   "outputs": [
    {
     "data": {
      "text/plain": [
       "76.44186046511628"
      ]
     },
     "execution_count": 27,
     "metadata": {},
     "output_type": "execute_result"
    }
   ],
   "source": [
    "female_info[\"Spending Score (1-100)\"].mean()"
   ]
  },
  {
   "cell_type": "code",
   "execution_count": 28,
   "id": "78e223b4",
   "metadata": {
    "execution": {
     "iopub.execute_input": "2024-08-20T15:54:48.054027Z",
     "iopub.status.busy": "2024-08-20T15:54:48.053120Z",
     "iopub.status.idle": "2024-08-20T15:54:48.060222Z",
     "shell.execute_reply": "2024-08-20T15:54:48.058956Z"
    },
    "papermill": {
     "duration": 0.028793,
     "end_time": "2024-08-20T15:54:48.062944",
     "exception": false,
     "start_time": "2024-08-20T15:54:48.034151",
     "status": "completed"
    },
    "tags": []
   },
   "outputs": [],
   "source": [
    "male_info=gender_info.get_group(\"Male\").sort_values(by=\"Age\")"
   ]
  },
  {
   "cell_type": "code",
   "execution_count": 29,
   "id": "191d0145",
   "metadata": {
    "execution": {
     "iopub.execute_input": "2024-08-20T15:54:48.099605Z",
     "iopub.status.busy": "2024-08-20T15:54:48.099210Z",
     "iopub.status.idle": "2024-08-20T15:54:48.106366Z",
     "shell.execute_reply": "2024-08-20T15:54:48.105297Z"
    },
    "papermill": {
     "duration": 0.028154,
     "end_time": "2024-08-20T15:54:48.108715",
     "exception": false,
     "start_time": "2024-08-20T15:54:48.080561",
     "status": "completed"
    },
    "tags": []
   },
   "outputs": [
    {
     "data": {
      "text/plain": [
       "(35, 5)"
      ]
     },
     "execution_count": 29,
     "metadata": {},
     "output_type": "execute_result"
    }
   ],
   "source": [
    "male_info.shape"
   ]
  },
  {
   "cell_type": "code",
   "execution_count": 30,
   "id": "08e66c4c",
   "metadata": {
    "execution": {
     "iopub.execute_input": "2024-08-20T15:54:48.145515Z",
     "iopub.status.busy": "2024-08-20T15:54:48.145059Z",
     "iopub.status.idle": "2024-08-20T15:54:48.152463Z",
     "shell.execute_reply": "2024-08-20T15:54:48.151367Z"
    },
    "papermill": {
     "duration": 0.02867,
     "end_time": "2024-08-20T15:54:48.155119",
     "exception": false,
     "start_time": "2024-08-20T15:54:48.126449",
     "status": "completed"
    },
    "tags": []
   },
   "outputs": [
    {
     "data": {
      "text/plain": [
       "97"
      ]
     },
     "execution_count": 30,
     "metadata": {},
     "output_type": "execute_result"
    }
   ],
   "source": [
    "male_info[\"Spending Score (1-100)\"].max()"
   ]
  },
  {
   "cell_type": "code",
   "execution_count": 31,
   "id": "82e7ded2",
   "metadata": {
    "execution": {
     "iopub.execute_input": "2024-08-20T15:54:48.254109Z",
     "iopub.status.busy": "2024-08-20T15:54:48.252619Z",
     "iopub.status.idle": "2024-08-20T15:54:48.260942Z",
     "shell.execute_reply": "2024-08-20T15:54:48.259761Z"
    },
    "papermill": {
     "duration": 0.029623,
     "end_time": "2024-08-20T15:54:48.263428",
     "exception": false,
     "start_time": "2024-08-20T15:54:48.233805",
     "status": "completed"
    },
    "tags": []
   },
   "outputs": [
    {
     "data": {
      "text/plain": [
       "56"
      ]
     },
     "execution_count": 31,
     "metadata": {},
     "output_type": "execute_result"
    }
   ],
   "source": [
    "male_info[\"Spending Score (1-100)\"].min()"
   ]
  },
  {
   "cell_type": "code",
   "execution_count": 32,
   "id": "b0cfd878",
   "metadata": {
    "execution": {
     "iopub.execute_input": "2024-08-20T15:54:48.300266Z",
     "iopub.status.busy": "2024-08-20T15:54:48.299863Z",
     "iopub.status.idle": "2024-08-20T15:54:48.307060Z",
     "shell.execute_reply": "2024-08-20T15:54:48.306008Z"
    },
    "papermill": {
     "duration": 0.028426,
     "end_time": "2024-08-20T15:54:48.309421",
     "exception": false,
     "start_time": "2024-08-20T15:54:48.280995",
     "status": "completed"
    },
    "tags": []
   },
   "outputs": [
    {
     "data": {
      "text/plain": [
       "75.77142857142857"
      ]
     },
     "execution_count": 32,
     "metadata": {},
     "output_type": "execute_result"
    }
   ],
   "source": [
    "male_info[\"Spending Score (1-100)\"].mean()"
   ]
  },
  {
   "cell_type": "markdown",
   "id": "4de74de4",
   "metadata": {
    "papermill": {
     "duration": 0.017483,
     "end_time": "2024-08-20T15:54:48.344582",
     "exception": false,
     "start_time": "2024-08-20T15:54:48.327099",
     "status": "completed"
    },
    "tags": []
   },
   "source": [
    "**Preparing the data**"
   ]
  },
  {
   "cell_type": "code",
   "execution_count": 33,
   "id": "d2a29192",
   "metadata": {
    "execution": {
     "iopub.execute_input": "2024-08-20T15:54:48.381726Z",
     "iopub.status.busy": "2024-08-20T15:54:48.381344Z",
     "iopub.status.idle": "2024-08-20T15:54:48.387518Z",
     "shell.execute_reply": "2024-08-20T15:54:48.386265Z"
    },
    "papermill": {
     "duration": 0.027741,
     "end_time": "2024-08-20T15:54:48.390125",
     "exception": false,
     "start_time": "2024-08-20T15:54:48.362384",
     "status": "completed"
    },
    "tags": []
   },
   "outputs": [],
   "source": [
    "X=df.iloc[:,[3,4]].values"
   ]
  },
  {
   "cell_type": "code",
   "execution_count": 34,
   "id": "24e9c085",
   "metadata": {
    "execution": {
     "iopub.execute_input": "2024-08-20T15:54:48.429292Z",
     "iopub.status.busy": "2024-08-20T15:54:48.428495Z",
     "iopub.status.idle": "2024-08-20T15:54:48.761480Z",
     "shell.execute_reply": "2024-08-20T15:54:48.751398Z"
    },
    "papermill": {
     "duration": 0.357195,
     "end_time": "2024-08-20T15:54:48.765499",
     "exception": false,
     "start_time": "2024-08-20T15:54:48.408304",
     "status": "completed"
    },
    "tags": []
   },
   "outputs": [],
   "source": [
    "wcss = []\n",
    "\n",
    "for i in range(1,11):\n",
    "  kmeans = KMeans(n_clusters=i, init='k-means++', random_state=42)\n",
    "  kmeans.fit(X)\n",
    "\n",
    "  wcss.append(kmeans.inertia_)"
   ]
  },
  {
   "cell_type": "code",
   "execution_count": 35,
   "id": "05daaf34",
   "metadata": {
    "execution": {
     "iopub.execute_input": "2024-08-20T15:54:48.823321Z",
     "iopub.status.busy": "2024-08-20T15:54:48.821762Z",
     "iopub.status.idle": "2024-08-20T15:54:49.202434Z",
     "shell.execute_reply": "2024-08-20T15:54:49.201267Z"
    },
    "papermill": {
     "duration": 0.415488,
     "end_time": "2024-08-20T15:54:49.204962",
     "exception": false,
     "start_time": "2024-08-20T15:54:48.789474",
     "status": "completed"
    },
    "tags": []
   },
   "outputs": [
    {
     "data": {
      "image/png": "[encoded data removed]",
      "text/plain": [
       "<Figure size 640x480 with 1 Axes>"
      ]
     },
     "metadata": {},
     "output_type": "display_data"
    }
   ],
   "source": [
    "#adding more clusters decrease the WCSS\n",
    "sns.set()\n",
    "plt.plot(range(1,11), wcss)\n",
    "plt.title('The Elbow Point Graph')\n",
    "plt.xlabel('Number of Clusters')\n",
    "plt.ylabel('WCSS')\n",
    "plt.show()"
   ]
  },
  {
   "cell_type": "code",
   "execution_count": 36,
   "id": "884e1c36",
   "metadata": {
    "execution": {
     "iopub.execute_input": "2024-08-20T15:54:49.244256Z",
     "iopub.status.busy": "2024-08-20T15:54:49.243844Z",
     "iopub.status.idle": "2024-08-20T15:54:49.275691Z",
     "shell.execute_reply": "2024-08-20T15:54:49.274515Z"
    },
    "papermill": {
     "duration": 0.055205,
     "end_time": "2024-08-20T15:54:49.278794",
     "exception": false,
     "start_time": "2024-08-20T15:54:49.223589",
     "status": "completed"
    },
    "tags": []
   },
   "outputs": [
    {
     "name": "stdout",
     "output_type": "stream",
     "text": [
      "[3 4 3 4 3 4 3 4 3 4 3 4 3 4 3 4 3 4 3 4 3 4 3 4 3 4 3 4 3 4 3 4 3 4 3 4 3\n",
      " 4 3 4 3 4 3 0 3 4 0 0 0 0 0 0 0 0 0 0 0 0 0 0 0 0 0 0 0 0 0 0 0 0 0 0 0 0\n",
      " 0 0 0 0 0 0 0 0 0 0 0 0 0 0 0 0 0 0 0 0 0 0 0 0 0 0 0 0 0 0 0 0 0 0 0 0 0\n",
      " 0 0 0 0 0 0 0 0 0 0 0 0 1 2 1 0 1 2 1 2 1 0 1 2 1 2 1 2 1 2 1 0 1 2 1 2 1\n",
      " 2 1 2 1 2 1 2 1 2 1 2 1 2 1 2 1 2 1 2 1 2 1 2 1 2 1 2 1 2 1 2 1 2 1 2 1 2\n",
      " 1 2 1 2 1 2 1 2 1 2 1 2 1 2 1]\n"
     ]
    }
   ],
   "source": [
    "kmeans = KMeans(n_clusters=5, init='k-means++', random_state=0)\n",
    "\n",
    "# return a label for each data point based on their cluster\n",
    "Y= kmeans.fit_predict(X)\n",
    "\n",
    "print(Y)"
   ]
  },
  {
   "cell_type": "markdown",
   "id": "3beac0d2",
   "metadata": {
    "papermill": {
     "duration": 0.018504,
     "end_time": "2024-08-20T15:54:49.317041",
     "exception": false,
     "start_time": "2024-08-20T15:54:49.298537",
     "status": "completed"
    },
    "tags": []
   },
   "source": [
    "## "
   ]
  },
  {
   "cell_type": "code",
   "execution_count": 37,
   "id": "cbcd5ccf",
   "metadata": {
    "execution": {
     "iopub.execute_input": "2024-08-20T15:54:49.357382Z",
     "iopub.status.busy": "2024-08-20T15:54:49.356283Z",
     "iopub.status.idle": "2024-08-20T15:54:49.370859Z",
     "shell.execute_reply": "2024-08-20T15:54:49.369544Z"
    },
    "papermill": {
     "duration": 0.038635,
     "end_time": "2024-08-20T15:54:49.374479",
     "exception": false,
     "start_time": "2024-08-20T15:54:49.335844",
     "status": "completed"
    },
    "tags": []
   },
   "outputs": [
    {
     "name": "stdout",
     "output_type": "stream",
     "text": [
      "Cluster Centers (Annual Income, Spending Score):\n",
      "Cluster 0: [55.2962963  49.51851852]\n",
      "Cluster 1: [86.53846154 82.12820513]\n",
      "Cluster 2: [88.2        17.11428571]\n",
      "Cluster 3: [26.30434783 20.91304348]\n",
      "Cluster 4: [25.72727273 79.36363636]\n"
     ]
    }
   ],
   "source": [
    "# Inspect the cluster centers\n",
    "centroids = kmeans.cluster_centers_\n",
    "print(\"Cluster Centers (Annual Income, Spending Score):\")\n",
    "for i, centroid in enumerate(centroids):\n",
    "    print(f\"Cluster {i}: {centroid}\")\n",
    "\n",
    "# Define thresholds and assign labels based on actual centroids\n",
    "cluster_names = {}\n",
    "for i, centroid in enumerate(centroids):\n",
    "    income = centroid[0]\n",
    "    spending = centroid[1]\n",
    "    \n",
    "    # Assign income level\n",
    "    if income < 60:\n",
    "        income_label = \"Low Income\"\n",
    "    elif 60 <= income <= 90:\n",
    "        income_label = \"Medium Income\"\n",
    "    else:\n",
    "        income_label = \"High Income\"\n",
    "    \n",
    "    # Assign spending level\n",
    "    if spending < 60:\n",
    "        spending_label = \"Low Spending\"\n",
    "    elif 60 <= spending <= 80:\n",
    "        spending_label = \"Medium Spending\"\n",
    "    else:\n",
    "        spending_label = \"High Spending\"\n",
    "    \n",
    "    # Combine labels\n",
    "    cluster_names[i] = f\"{income_label}, {spending_label}\"\n"
   ]
  },
  {
   "cell_type": "code",
   "execution_count": 38,
   "id": "7a73cf29",
   "metadata": {
    "execution": {
     "iopub.execute_input": "2024-08-20T15:54:49.418541Z",
     "iopub.status.busy": "2024-08-20T15:54:49.418021Z",
     "iopub.status.idle": "2024-08-20T15:54:49.434630Z",
     "shell.execute_reply": "2024-08-20T15:54:49.431729Z"
    },
    "papermill": {
     "duration": 0.040959,
     "end_time": "2024-08-20T15:54:49.437671",
     "exception": false,
     "start_time": "2024-08-20T15:54:49.396712",
     "status": "completed"
    },
    "tags": []
   },
   "outputs": [
    {
     "name": "stdout",
     "output_type": "stream",
     "text": [
      "   Annual Income (k$)  Spending Score (1-100)                 Cluster Name\n",
      "0                  15                      39     Low Income, Low Spending\n",
      "1                  15                      81  Low Income, Medium Spending\n",
      "2                  16                       6     Low Income, Low Spending\n",
      "3                  16                      77  Low Income, Medium Spending\n",
      "4                  17                      40     Low Income, Low Spending\n"
     ]
    }
   ],
   "source": [
    "\n",
    "# Add cluster labels to the DataFrame\n",
    "df['Cluster'] = Y\n",
    "df['Cluster Name'] = df['Cluster'].map(cluster_names)\n",
    "\n",
    "# Print the DataFrame with cluster names\n",
    "print(df[['Annual Income (k$)', 'Spending Score (1-100)', 'Cluster Name']].head())\n"
   ]
  },
  {
   "cell_type": "code",
   "execution_count": 39,
   "id": "957d8c8f",
   "metadata": {
    "execution": {
     "iopub.execute_input": "2024-08-20T15:54:49.478325Z",
     "iopub.status.busy": "2024-08-20T15:54:49.477891Z",
     "iopub.status.idle": "2024-08-20T15:54:49.919922Z",
     "shell.execute_reply": "2024-08-20T15:54:49.918702Z"
    },
    "papermill": {
     "duration": 0.465683,
     "end_time": "2024-08-20T15:54:49.922675",
     "exception": false,
     "start_time": "2024-08-20T15:54:49.456992",
     "status": "completed"
    },
    "tags": []
   },
   "outputs": [
    {
     "name": "stdout",
     "output_type": "stream",
     "text": [
      "The new data point (Annual Income: 100k, Spending Score: 100) belongs to cluster: Medium Income, High Spending\n"
     ]
    },
    {
     "data": {
      "image/png": "[encoded data removed]",
      "text/plain": [
       "<Figure size 800x800 with 1 Axes>"
      ]
     },
     "metadata": {},
     "output_type": "display_data"
    }
   ],
   "source": [
    "\n",
    "# New data point: [Annual Income, Spending Score]\n",
    "new_data = np.array([[100, 100]])\n",
    "\n",
    "# Predict the cluster for the new data point\n",
    "predicted_cluster = kmeans.predict(new_data)\n",
    "predicted_cluster_name = cluster_names[predicted_cluster[0]]\n",
    "\n",
    "print(f'The new data point (Annual Income: {new_data[0, 0]}k, Spending Score: {new_data[0, 1]}) belongs to cluster: {predicted_cluster_name}')\n",
    "\n",
    "# Visualize the clusters along with the new data point\n",
    "plt.figure(figsize=(8, 8))\n",
    "for i in range(kmeans.n_clusters):\n",
    "    plt.scatter(X[Y == i, 0], X[Y == i, 1], s=50, label=cluster_names[i])\n",
    "\n",
    "# Plot the centroids\n",
    "plt.scatter(kmeans.cluster_centers_[:, 0], kmeans.cluster_centers_[:, 1], s=100, c='cyan', label='Centroids')\n",
    "\n",
    "# Plot the new data point with a distinct marker (e.g., a star)\n",
    "plt.scatter(new_data[0, 0], new_data[0, 1], s=200, c='black', marker='*', label='New Data Point')\n",
    "\n",
    "# Add labels and title to the plot\n",
    "plt.title('Customer Groups with New Data Point')\n",
    "plt.xlabel('Annual Income (k$)')\n",
    "plt.ylabel('Spending Score (1-100)')\n",
    "#plt.legend()\n",
    "plt.show()"
   ]
  },
  {
   "cell_type": "code",
   "execution_count": null,
   "id": "65338f01",
   "metadata": {
    "papermill": {
     "duration": 0.019662,
     "end_time": "2024-08-20T15:54:49.962356",
     "exception": false,
     "start_time": "2024-08-20T15:54:49.942694",
     "status": "completed"
    },
    "tags": []
   },
   "outputs": [],
   "source": []
  }
 ],
 "metadata": {
  "kaggle": {
   "accelerator": "none",
   "dataSources": [
    {
     "datasetId": 42674,
     "sourceId": 74935,
     "sourceType": "datasetVersion"
    }
   ],
   "dockerImageVersionId": 30746,
   "isGpuEnabled": false,
   "isInternetEnabled": true,
   "language": "python",
   "sourceType": "notebook"
  },
  "kernelspec": {
   "display_name": "Python 3",
   "language": "python",
   "name": "python3"
  },
  "language_info": {
   "codemirror_mode": {
    "name": "ipython",
    "version": 3
   },
   "file_extension": ".py",
   "mimetype": "text/x-python",
   "name": "python",
   "nbconvert_exporter": "python",
   "pygments_lexer": "ipython3",
   "version": "3.11.4"
  },
  "papermill": {
   "default_parameters": {},
   "duration": 11.047753,
   "end_time": "2024-08-20T15:54:50.604559",
   "environment_variables": {},
   "exception": null,
   "input_path": "__notebook__.ipynb",
   "output_path": "__notebook__.ipynb",
   "parameters": {},
   "start_time": "2024-08-20T15:54:39.556806",
   "version": "2.5.0"
  }
 },
 "nbformat": 4,
 "nbformat_minor": 5
}
